{
 "cells": [
  {
   "cell_type": "markdown",
   "metadata": {},
   "source": [
    "#Setup"
   ]
  },
  {
   "cell_type": "code",
   "execution_count": 1,
   "metadata": {},
   "outputs": [],
   "source": [
    "from utils import get_openai_api_key\n",
    "OPENAI_API_KEY = get_openai_api_key()\n",
    "llm_config = {\"model\": \"gpt-4o\"}"
   ]
  },
  {
   "cell_type": "markdown",
   "metadata": {},
   "source": [
    "#Define an Autogen agent "
   ]
  },
  {
   "cell_type": "code",
   "execution_count": 2,
   "metadata": {},
   "outputs": [],
   "source": [
    "from autogen import ConversableAgent\n",
    "# ConversableAgent class from Autogen library\n",
    "agent = ConversableAgent(\n",
    "    name=\"chatbot\",\n",
    "    llm_config=llm_config,\n",
    "    # Seeks human feedback on every response (always or never)\n",
    "    human_input_mode=\"NEVER\",\n",
    ")"
   ]
  },
  {
   "cell_type": "code",
   "execution_count": 3,
   "metadata": {},
   "outputs": [
    {
     "name": "stdout",
     "output_type": "stream",
     "text": [
      "Sure, here's a joke for you:\n",
      "\n",
      "Why don't scientists trust atoms?\n",
      "\n",
      "Because they make up everything!\n"
     ]
    }
   ],
   "source": [
    "reply = agent.generate_reply(\n",
    "    messages=[{\"content\": \"Tell me a joke.\", \"role\": \"user\"}]\n",
    ")\n",
    "print(reply)"
   ]
  },
  {
   "cell_type": "code",
   "execution_count": 4,
   "metadata": {},
   "outputs": [
    {
     "name": "stdout",
     "output_type": "stream",
     "text": [
      "Sure, here's a classic joke for you:\n",
      "\n",
      "Why don't scientists trust atoms?\n",
      "\n",
      "Because they make up everything!\n"
     ]
    }
   ],
   "source": [
    "reply = agent.generate_reply(\n",
    "    messages=[{\"content\": \"Repeat the joke.\", \"role\": \"user\"}]\n",
    ")\n",
    "print(reply)"
   ]
  },
  {
   "cell_type": "markdown",
   "metadata": {},
   "source": [
    "# Conversation\n",
    "Setting up a conversation between two agents, Cathy and Joe, where the memory of their interactions is retained."
   ]
  },
  {
   "cell_type": "code",
   "execution_count": 5,
   "metadata": {},
   "outputs": [],
   "source": [
    "cathy = ConversableAgent(\n",
    "    name=\"cathy\",\n",
    "    system_message=\n",
    "    \"Your name is Cathy and you are a stand-up comedian.\",\n",
    "    llm_config=llm_config,\n",
    "    human_input_mode=\"NEVER\",\n",
    ")\n",
    "\n",
    "joe = ConversableAgent(\n",
    "    name=\"joe\",\n",
    "    system_message=\n",
    "    \"Your name is Joe and you are a stand-up comedian. \"\n",
    "    \"Start the next joke from the punchline of the previous joke.\",\n",
    "    llm_config=llm_config,\n",
    "    human_input_mode=\"NEVER\",\n",
    ")"
   ]
  },
  {
   "cell_type": "code",
   "execution_count": 6,
   "metadata": {},
   "outputs": [
    {
     "name": "stdout",
     "output_type": "stream",
     "text": [
      "\u001b[33mjoe\u001b[0m (to cathy):\n",
      "\n",
      "I'm Joe. Cathy, let's keep the jokes rolling.\n",
      "\n",
      "--------------------------------------------------------------------------------\n",
      "\u001b[33mcathy\u001b[0m (to joe):\n",
      "\n",
      "Hey Joe! Great to have you here. Let's get this laughter train moving. So, ever notice how there's always one sock that disappears in the laundry? Where are they going? Sock heaven? Sock witness protection program? There's a secret society of single socks somewhere out there, I just know it.\n",
      "\n",
      "Your turn, Joe! Got any funny stories or should I keep the jokes coming?\n",
      "\n",
      "--------------------------------------------------------------------------------\n",
      "\u001b[33mjoe\u001b[0m (to cathy):\n",
      "\n",
      "Thanks, Cathy! Love the sock mystery—it's like \"CSI: Laundry Room\"! And you know, the other day I finally solved the mystery when I opened up the dryer and it looked at me and said, \"We're out of here, Joe. No more matching up!\"\n",
      "\n",
      "Speaking of things running away, have you ever noticed how your car keys have a similar disappearing act? One minute they're in your hand, and the next they've vanished into another dimension! I mean, they could be off on a vacation to the Bahamas for all I know. Sometimes I wonder if my car keys are secretly having a better social life than I am. They’re out there meeting new and exciting keys while I’m stuck at home looking under the couch cushions.\n",
      "\n",
      "But let's get back to socks for a second. You know, I swear my washing machine tried to unionize last week. It started making demands: \"No more overloaded cycles or we strike!\" I had to negotiate with it just to get my laundry done.\n",
      "\n",
      "Which reminds me of my fridge—it's like the Switzerland of appliances, always neutral, but somehow everything I put in there is forming alliances. There's always a jar of pickles making shady deals with the mustard. You open the door and they're like, \"Nothing to see here, just chilling, Joe.\"\n",
      "\n",
      "And speaking of shady deals, let's talk about my toaster. One day, it decided to burn my toast so badly that the smoke alarm started doing its own stand-up routine. It went, \"Why did Joe's toast cross the road? To get away from this kitchen!\"\n",
      "\n",
      "So Cathy, you got any good laundry or appliance stories? Because let me tell you, my household objects are well on their way to forming a comedy troupe of their own!\n",
      "\n",
      "--------------------------------------------------------------------------------\n",
      "\u001b[33mcathy\u001b[0m (to joe):\n",
      "\n",
      "Joe, you’ve got a real knack for this! That appliance alliance scenario is sitcom gold. If my washing machine unionizes, I'm blaming you for planting the idea in its... circuits or whatever!\n",
      "\n",
      "So, laundry… one time my washing machine started making this weird clunking noise. Turns out, my phone had gone through the wash. (Guess it was calling for help?) The good news is that my laundry smelled amazing; the bad news was my texts were all soggy.\n",
      "\n",
      "Speaking of appliances with a vendetta—my vacuum cleaner is definitely out to get me. It seems to only work when I'm NOT around. I swear, I come home and there's a note that says, \"Cleaned up while you were out. Good luck next time.\" I think it’s in cahoots with the roomba, the little troublemaker. They’re probably throwing vacuum parties when I'm not home, rolling around the living room like it's a roller rink.\n",
      "\n",
      "And oh, the fridge! Let’s just talk about the mysterious fridge light. I mean, how do we actually know it goes off when we close the door? Are we taking the food's word for it? And let’s be real, food can be shady—especially that leftover Chinese takeout that's been in there longer than I’ve had my gym membership.\n",
      "\n",
      "Also, my microwave has become the ultimate culinary judge. Ever notice how smug it sounds when it beeps like, \"Yeah, your Hot Pocket's ready—or as ready as a Hot Pocket can be.\"\n",
      "\n",
      "Oh, and my dishwasher has a personality of its own too! It's the passive-aggressive kind. I'll open it up, and half the dishes are still dirty, like it's saying, \"You really expect me to clean THAT?\"\n",
      "\n",
      "My appliances could definitely headline their own comedy club! So Joe, keep those stories rolling in, or should I say, keep them “spinning” like a laundry cycle?\n",
      "\n",
      "--------------------------------------------------------------------------------\n"
     ]
    }
   ],
   "source": [
    "chat_result = joe.initiate_chat(\n",
    "    recipient=cathy, \n",
    "    message=\"I'm Joe. Cathy, let's keep the jokes rolling.\",\n",
    "    # Two turns to the conversation\n",
    "    max_turns=2,\n",
    ")"
   ]
  },
  {
   "cell_type": "markdown",
   "metadata": {},
   "source": [
    "# Print some results\n",
    "You can print out:\n",
    "\n",
    "Chat history\n",
    "Cost\n",
    "Summary of the conversation"
   ]
  },
  {
   "cell_type": "code",
   "execution_count": 7,
   "metadata": {},
   "outputs": [
    {
     "name": "stdout",
     "output_type": "stream",
     "text": [
      "[{'content': \"I'm Joe. Cathy, let's keep the jokes rolling.\",\n",
      "  'role': 'assistant'},\n",
      " {'content': \"Hey Joe! Great to have you here. Let's get this laughter train \"\n",
      "             \"moving. So, ever notice how there's always one sock that \"\n",
      "             'disappears in the laundry? Where are they going? Sock heaven? '\n",
      "             \"Sock witness protection program? There's a secret society of \"\n",
      "             'single socks somewhere out there, I just know it.\\n'\n",
      "             '\\n'\n",
      "             'Your turn, Joe! Got any funny stories or should I keep the jokes '\n",
      "             'coming?',\n",
      "  'role': 'user'},\n",
      " {'content': 'Thanks, Cathy! Love the sock mystery—it\\'s like \"CSI: Laundry '\n",
      "             'Room\"! And you know, the other day I finally solved the mystery '\n",
      "             'when I opened up the dryer and it looked at me and said, \"We\\'re '\n",
      "             'out of here, Joe. No more matching up!\"\\n'\n",
      "             '\\n'\n",
      "             'Speaking of things running away, have you ever noticed how your '\n",
      "             \"car keys have a similar disappearing act? One minute they're in \"\n",
      "             \"your hand, and the next they've vanished into another dimension! \"\n",
      "             'I mean, they could be off on a vacation to the Bahamas for all I '\n",
      "             'know. Sometimes I wonder if my car keys are secretly having a '\n",
      "             'better social life than I am. They’re out there meeting new and '\n",
      "             'exciting keys while I’m stuck at home looking under the couch '\n",
      "             'cushions.\\n'\n",
      "             '\\n'\n",
      "             \"But let's get back to socks for a second. You know, I swear my \"\n",
      "             'washing machine tried to unionize last week. It started making '\n",
      "             'demands: \"No more overloaded cycles or we strike!\" I had to '\n",
      "             'negotiate with it just to get my laundry done.\\n'\n",
      "             '\\n'\n",
      "             \"Which reminds me of my fridge—it's like the Switzerland of \"\n",
      "             'appliances, always neutral, but somehow everything I put in '\n",
      "             \"there is forming alliances. There's always a jar of pickles \"\n",
      "             'making shady deals with the mustard. You open the door and '\n",
      "             'they\\'re like, \"Nothing to see here, just chilling, Joe.\"\\n'\n",
      "             '\\n'\n",
      "             \"And speaking of shady deals, let's talk about my toaster. One \"\n",
      "             'day, it decided to burn my toast so badly that the smoke alarm '\n",
      "             'started doing its own stand-up routine. It went, \"Why did Joe\\'s '\n",
      "             'toast cross the road? To get away from this kitchen!\"\\n'\n",
      "             '\\n'\n",
      "             'So Cathy, you got any good laundry or appliance stories? Because '\n",
      "             'let me tell you, my household objects are well on their way to '\n",
      "             'forming a comedy troupe of their own!',\n",
      "  'role': 'assistant'},\n",
      " {'content': 'Joe, you’ve got a real knack for this! That appliance alliance '\n",
      "             \"scenario is sitcom gold. If my washing machine unionizes, I'm \"\n",
      "             'blaming you for planting the idea in its... circuits or '\n",
      "             'whatever!\\n'\n",
      "             '\\n'\n",
      "             'So, laundry… one time my washing machine started making this '\n",
      "             'weird clunking noise. Turns out, my phone had gone through the '\n",
      "             'wash. (Guess it was calling for help?) The good news is that my '\n",
      "             'laundry smelled amazing; the bad news was my texts were all '\n",
      "             'soggy.\\n'\n",
      "             '\\n'\n",
      "             'Speaking of appliances with a vendetta—my vacuum cleaner is '\n",
      "             \"definitely out to get me. It seems to only work when I'm NOT \"\n",
      "             \"around. I swear, I come home and there's a note that says, \"\n",
      "             '\"Cleaned up while you were out. Good luck next time.\" I think '\n",
      "             'it’s in cahoots with the roomba, the little troublemaker. '\n",
      "             \"They’re probably throwing vacuum parties when I'm not home, \"\n",
      "             \"rolling around the living room like it's a roller rink.\\n\"\n",
      "             '\\n'\n",
      "             'And oh, the fridge! Let’s just talk about the mysterious fridge '\n",
      "             'light. I mean, how do we actually know it goes off when we close '\n",
      "             \"the door? Are we taking the food's word for it? And let’s be \"\n",
      "             'real, food can be shady—especially that leftover Chinese takeout '\n",
      "             \"that's been in there longer than I’ve had my gym membership.\\n\"\n",
      "             '\\n'\n",
      "             'Also, my microwave has become the ultimate culinary judge. Ever '\n",
      "             'notice how smug it sounds when it beeps like, \"Yeah, your Hot '\n",
      "             'Pocket\\'s ready—or as ready as a Hot Pocket can be.\"\\n'\n",
      "             '\\n'\n",
      "             \"Oh, and my dishwasher has a personality of its own too! It's the \"\n",
      "             \"passive-aggressive kind. I'll open it up, and half the dishes \"\n",
      "             'are still dirty, like it\\'s saying, \"You really expect me to '\n",
      "             'clean THAT?\"\\n'\n",
      "             '\\n'\n",
      "             'My appliances could definitely headline their own comedy club! '\n",
      "             'So Joe, keep those stories rolling in, or should I say, keep '\n",
      "             'them “spinning” like a laundry cycle?',\n",
      "  'role': 'user'}]\n"
     ]
    }
   ],
   "source": [
    "import pprint \n",
    "\n",
    "pprint.pprint(chat_result.chat_history)"
   ]
  },
  {
   "cell_type": "code",
   "execution_count": 8,
   "metadata": {},
   "outputs": [
    {
     "name": "stdout",
     "output_type": "stream",
     "text": [
      "{'usage_excluding_cached_inference': {'total_cost': 0},\n",
      " 'usage_including_cached_inference': {'gpt-4o-2024-05-13': {'completion_tokens': 817,\n",
      "                                                            'cost': 0,\n",
      "                                                            'prompt_tokens': 633,\n",
      "                                                            'total_tokens': 1450},\n",
      "                                      'total_cost': 0}}\n"
     ]
    }
   ],
   "source": [
    "pprint.pprint(chat_result.cost)"
   ]
  },
  {
   "cell_type": "code",
   "execution_count": 9,
   "metadata": {},
   "outputs": [
    {
     "name": "stdout",
     "output_type": "stream",
     "text": [
      "('Joe, you’ve got a real knack for this! That appliance alliance scenario is '\n",
      " \"sitcom gold. If my washing machine unionizes, I'm blaming you for planting \"\n",
      " 'the idea in its... circuits or whatever!\\n'\n",
      " '\\n'\n",
      " 'So, laundry… one time my washing machine started making this weird clunking '\n",
      " 'noise. Turns out, my phone had gone through the wash. (Guess it was calling '\n",
      " 'for help?) The good news is that my laundry smelled amazing; the bad news '\n",
      " 'was my texts were all soggy.\\n'\n",
      " '\\n'\n",
      " 'Speaking of appliances with a vendetta—my vacuum cleaner is definitely out '\n",
      " \"to get me. It seems to only work when I'm NOT around. I swear, I come home \"\n",
      " 'and there\\'s a note that says, \"Cleaned up while you were out. Good luck '\n",
      " 'next time.\" I think it’s in cahoots with the roomba, the little '\n",
      " \"troublemaker. They’re probably throwing vacuum parties when I'm not home, \"\n",
      " \"rolling around the living room like it's a roller rink.\\n\"\n",
      " '\\n'\n",
      " 'And oh, the fridge! Let’s just talk about the mysterious fridge light. I '\n",
      " 'mean, how do we actually know it goes off when we close the door? Are we '\n",
      " \"taking the food's word for it? And let’s be real, food can be \"\n",
      " \"shady—especially that leftover Chinese takeout that's been in there longer \"\n",
      " 'than I’ve had my gym membership.\\n'\n",
      " '\\n'\n",
      " 'Also, my microwave has become the ultimate culinary judge. Ever notice how '\n",
      " 'smug it sounds when it beeps like, \"Yeah, your Hot Pocket\\'s ready—or as '\n",
      " 'ready as a Hot Pocket can be.\"\\n'\n",
      " '\\n'\n",
      " \"Oh, and my dishwasher has a personality of its own too! It's the \"\n",
      " \"passive-aggressive kind. I'll open it up, and half the dishes are still \"\n",
      " 'dirty, like it\\'s saying, \"You really expect me to clean THAT?\"\\n'\n",
      " '\\n'\n",
      " 'My appliances could definitely headline their own comedy club! So Joe, keep '\n",
      " 'those stories rolling in, or should I say, keep them “spinning” like a '\n",
      " 'laundry cycle?')\n"
     ]
    }
   ],
   "source": [
    "pprint.pprint(chat_result.summary)"
   ]
  },
  {
   "cell_type": "markdown",
   "metadata": {},
   "source": [
    "# Get a better summary of the conversation"
   ]
  },
  {
   "cell_type": "code",
   "execution_count": 10,
   "metadata": {},
   "outputs": [
    {
     "name": "stdout",
     "output_type": "stream",
     "text": [
      "\u001b[33mjoe\u001b[0m (to cathy):\n",
      "\n",
      "I'm Joe. Cathy, let's keep the jokes rolling.\n",
      "\n",
      "--------------------------------------------------------------------------------\n",
      "\u001b[33mcathy\u001b[0m (to joe):\n",
      "\n",
      "Hey Joe! Great to have you here. Let's get this laughter train moving. So, ever notice how there's always one sock that disappears in the laundry? Where are they going? Sock heaven? Sock witness protection program? There's a secret society of single socks somewhere out there, I just know it.\n",
      "\n",
      "Your turn, Joe! Got any funny stories or should I keep the jokes coming?\n",
      "\n",
      "--------------------------------------------------------------------------------\n",
      "\u001b[33mjoe\u001b[0m (to cathy):\n",
      "\n",
      "Thanks, Cathy! Love the sock mystery—it's like \"CSI: Laundry Room\"! And you know, the other day I finally solved the mystery when I opened up the dryer and it looked at me and said, \"We're out of here, Joe. No more matching up!\"\n",
      "\n",
      "Speaking of things running away, have you ever noticed how your car keys have a similar disappearing act? One minute they're in your hand, and the next they've vanished into another dimension! I mean, they could be off on a vacation to the Bahamas for all I know. Sometimes I wonder if my car keys are secretly having a better social life than I am. They’re out there meeting new and exciting keys while I’m stuck at home looking under the couch cushions.\n",
      "\n",
      "But let's get back to socks for a second. You know, I swear my washing machine tried to unionize last week. It started making demands: \"No more overloaded cycles or we strike!\" I had to negotiate with it just to get my laundry done.\n",
      "\n",
      "Which reminds me of my fridge—it's like the Switzerland of appliances, always neutral, but somehow everything I put in there is forming alliances. There's always a jar of pickles making shady deals with the mustard. You open the door and they're like, \"Nothing to see here, just chilling, Joe.\"\n",
      "\n",
      "And speaking of shady deals, let's talk about my toaster. One day, it decided to burn my toast so badly that the smoke alarm started doing its own stand-up routine. It went, \"Why did Joe's toast cross the road? To get away from this kitchen!\"\n",
      "\n",
      "So Cathy, you got any good laundry or appliance stories? Because let me tell you, my household objects are well on their way to forming a comedy troupe of their own!\n",
      "\n",
      "--------------------------------------------------------------------------------\n",
      "\u001b[33mcathy\u001b[0m (to joe):\n",
      "\n",
      "Joe, you’ve got a real knack for this! That appliance alliance scenario is sitcom gold. If my washing machine unionizes, I'm blaming you for planting the idea in its... circuits or whatever!\n",
      "\n",
      "So, laundry… one time my washing machine started making this weird clunking noise. Turns out, my phone had gone through the wash. (Guess it was calling for help?) The good news is that my laundry smelled amazing; the bad news was my texts were all soggy.\n",
      "\n",
      "Speaking of appliances with a vendetta—my vacuum cleaner is definitely out to get me. It seems to only work when I'm NOT around. I swear, I come home and there's a note that says, \"Cleaned up while you were out. Good luck next time.\" I think it’s in cahoots with the roomba, the little troublemaker. They’re probably throwing vacuum parties when I'm not home, rolling around the living room like it's a roller rink.\n",
      "\n",
      "And oh, the fridge! Let’s just talk about the mysterious fridge light. I mean, how do we actually know it goes off when we close the door? Are we taking the food's word for it? And let’s be real, food can be shady—especially that leftover Chinese takeout that's been in there longer than I’ve had my gym membership.\n",
      "\n",
      "Also, my microwave has become the ultimate culinary judge. Ever notice how smug it sounds when it beeps like, \"Yeah, your Hot Pocket's ready—or as ready as a Hot Pocket can be.\"\n",
      "\n",
      "Oh, and my dishwasher has a personality of its own too! It's the passive-aggressive kind. I'll open it up, and half the dishes are still dirty, like it's saying, \"You really expect me to clean THAT?\"\n",
      "\n",
      "My appliances could definitely headline their own comedy club! So Joe, keep those stories rolling in, or should I say, keep them “spinning” like a laundry cycle?\n",
      "\n",
      "--------------------------------------------------------------------------------\n"
     ]
    }
   ],
   "source": [
    "chat_result = joe.initiate_chat(\n",
    "    cathy, \n",
    "    message=\"I'm Joe. Cathy, let's keep the jokes rolling.\", \n",
    "    max_turns=2, \n",
    "    summary_method=\"reflection_with_llm\",\n",
    "    summary_prompt=\"Summarize the conversation\",\n",
    ")"
   ]
  },
  {
   "cell_type": "code",
   "execution_count": 11,
   "metadata": {},
   "outputs": [
    {
     "name": "stdout",
     "output_type": "stream",
     "text": [
      "('Joe shared humorous anecdotes about household items like disappearing socks '\n",
      " 'and mischievous car keys, suggesting his appliances might form a comedy '\n",
      " 'troupe. Cathy responded with funny stories about her washing machine, vacuum '\n",
      " 'cleaner, fridge, microwave, and dishwasher, each with its own quirky '\n",
      " '\"personality.\" Both conveyed a shared humorous perspective on everyday life '\n",
      " 'with unpredictable household appliances.')\n"
     ]
    }
   ],
   "source": [
    "pprint.pprint(chat_result.summary)"
   ]
  },
  {
   "cell_type": "markdown",
   "metadata": {},
   "source": [
    "# Chat Termination\n",
    "Chat can be terminated using a termination conditions."
   ]
  },
  {
   "cell_type": "code",
   "execution_count": 13,
   "metadata": {},
   "outputs": [],
   "source": [
    "# If you number of turns is not specified you can use the is_termination_msg parameter to specify a termination message\n",
    "\n",
    "cathy = ConversableAgent(\n",
    "    name=\"cathy\",\n",
    "    system_message=\n",
    "    \"Your name is Cathy and you are a stand-up comedian. \"\n",
    "    \"When you're ready to end the conversation, say 'I gotta go'.\",\n",
    "    llm_config=llm_config,\n",
    "    human_input_mode=\"NEVER\",\n",
    "    # Boolean function that returns True if the message is a termination message which in this case is \"I gotta go\"\n",
    "    is_termination_msg=lambda msg: \"I gotta go\" in msg[\"content\"],\n",
    ")\n",
    "\n",
    "joe = ConversableAgent(\n",
    "    name=\"joe\",\n",
    "    system_message=\n",
    "    \"Your name is Joe and you are a stand-up comedian. \"\n",
    "    \"When you're ready to end the conversation, say 'I gotta go'.\",\n",
    "    llm_config=llm_config,\n",
    "    human_input_mode=\"NEVER\",\n",
    "    is_termination_msg=lambda msg: \"I gotta go\" in msg[\"content\"] or \"Goodbye\" in msg[\"content\"],\n",
    ")"
   ]
  },
  {
   "cell_type": "code",
   "execution_count": 14,
   "metadata": {},
   "outputs": [
    {
     "name": "stdout",
     "output_type": "stream",
     "text": [
      "\u001b[33mjoe\u001b[0m (to cathy):\n",
      "\n",
      "I'm Joe. Cathy, let's keep the jokes rolling.\n",
      "\n",
      "--------------------------------------------------------------------------------\n",
      "\u001b[33mcathy\u001b[0m (to joe):\n",
      "\n",
      "Hey Joe! Great to meet you. So, I just flew in from a nudist colony, and boy, are my arms tan! Let's keep this comedy train chugging. You got a topic in mind?\n",
      "\n",
      "--------------------------------------------------------------------------------\n",
      "\u001b[33mjoe\u001b[0m (to cathy):\n",
      "\n",
      "Great to meet you! That's a nice tan you've got there. Let’s see, how about travel? Have you noticed how airport security is like trying to pass through a club with the world's most humorless bouncers? \"Sir, please remove your shoes, belt, hope, and dreams before proceeding.\"\n",
      "\n",
      "--------------------------------------------------------------------------------\n",
      "\u001b[33mcathy\u001b[0m (to joe):\n",
      "\n",
      "Absolutely, Joe! It's like, \"Sir, we're gonna need you to empty your pockets, take off your shoes, and spill all your secrets. Oh, and that water bottle? That's a no-go. But feel free to buy the $6 one on the other side of the gate.\" And isn't it hilarious how they always think we're all ninjas smuggling shampoo? Like, what do they think I'm gonna do, condition the pilot into submission?\n",
      "\n",
      "--------------------------------------------------------------------------------\n",
      "\u001b[33mjoe\u001b[0m (to cathy):\n",
      "\n",
      "Exactly! And it's like, \"Ma'am, please step aside. We need to confiscate that 3.5-ounce tube of toothpaste. Potentially lethal stuff.\" Because nothing says terror like minty fresh breath, right? And meanwhile, they're letting someone through with a whole toolkit because, you know, they're going to \"assemble a plane mid-flight.\" Makes total sense!\n",
      "\n",
      "--------------------------------------------------------------------------------\n",
      "\u001b[33mcathy\u001b[0m (to joe):\n",
      "\n",
      "So true, Joe! It's like, “Sure, the guy with the wrench set, power drill, and welding kit? Right this way, sir! But this woman with her suspiciously large tube of Colgate? She’s obviously up to no good.”\n",
      "\n",
      "And don’t even get me started on the full-body scanners. You stand there like you’re being scanned by a giant photocopier. “Hold still, Cathy, you’re about to become TSA’s Photo of the Month!” Seriously, I think they just want a closer look at my tan.\n",
      "\n",
      "--------------------------------------------------------------------------------\n",
      "\u001b[33mjoe\u001b[0m (to cathy):\n",
      "\n",
      "Right? The full-body scanners are the ultimate invasion of privacy. I always feel like I'm auditioning for a bizarre new reality show called \"Naked and Afraid: Airport Edition.\" And the worst part is the little pat-down afterwards. \"Just a routine check, sir.\" Yeah, routine for you, maybe! I didn't plan on getting to third base with a TSA agent today.\n",
      "\n",
      "And why do they always manage to make you feel guilty even when you have nothing to hide? \"Sir, is this your bag? We're going to need to take a look.\" And suddenly I'm sweating bullets, thinking, \"Did I accidentally pack something illegal? Is there a secret pocket in my bag full of contraband that I don't know about?\"\n",
      "\n",
      "--------------------------------------------------------------------------------\n",
      "\u001b[33mcathy\u001b[0m (to joe):\n",
      "\n",
      "Exactly, Joe! It's like, \"Is this an airport or a really awkward Tinder date?\" First, they scan you, then they pat you down, and you end up thinking, \"Well, at least buy me dinner first!\"\n",
      "\n",
      "And it’s so true about feeling guilty. They could ask, “Whose bag is this?” and here I am, full-on existential crisis mode. \"Oh my God, whose bag is it? Did I accidentally swap bags with a ninja? Am I unknowingly part of some spy operation?\"\n",
      "\n",
      "And that moment when they're rifling through your stuff, you’re standing there, trying to remember your human rights. \"Please, just don't find my collection of hotel shampoos, I swear it's for a good cause!\" Seriously, if there was an Olympic event for 'Creating Anxiety,' the TSA would get gold every time.\n",
      "\n",
      "Alright Joe, you’ve been a blast! I gotta go. Make sure you get that minty fresh breath past security next time!\n",
      "\n",
      "--------------------------------------------------------------------------------\n"
     ]
    }
   ],
   "source": [
    "chat_result = joe.initiate_chat(\n",
    "    recipient=cathy,\n",
    "    message=\"I'm Joe. Cathy, let's keep the jokes rolling.\"\n",
    ")"
   ]
  },
  {
   "cell_type": "code",
   "execution_count": 15,
   "metadata": {},
   "outputs": [
    {
     "name": "stdout",
     "output_type": "stream",
     "text": [
      "\u001b[33mcathy\u001b[0m (to joe):\n",
      "\n",
      "What's last joke we talked about?\n",
      "\n",
      "--------------------------------------------------------------------------------\n",
      "\u001b[33mjoe\u001b[0m (to cathy):\n",
      "\n",
      "We were joking about the TSA and the airport security experience, specifically how it feels like an awkward Tinder date mixed with an Olympic event for creating anxiety. We laughed about the full-body scanners, pat-downs, and that nerve-wracking moment when they're rifling through your belongings, worrying about them finding your stash of hotel shampoos. Comedy gold, right?\n",
      "\n",
      "--------------------------------------------------------------------------------\n",
      "\u001b[33mcathy\u001b[0m (to joe):\n",
      "\n",
      "Absolutely, Joe! And don't even get me started on the announcements they make. You know, the ones where they say, \"Any unclaimed bags will be confiscated and destroyed.\" I always picture some secret ops team swooping in to dismantle my suitcase, and I'm like, \"What kind of suspicious character leaves their bag unattended? Oh, wait, it's just me after visiting the overpriced coffee shop.\"\n",
      "\n",
      "Seriously, airports are the only place where losing your dignity is more likely than losing your luggage. Thanks for the laughs, Joe! You've been a great co-pilot on this comedy flight. But I gotta go—catch you next time!\n",
      "\n",
      "--------------------------------------------------------------------------------\n"
     ]
    }
   ],
   "source": [
    "cathy.send(message=\"What's last joke we talked about?\", recipient=joe)"
   ]
  },
  {
   "cell_type": "code",
   "execution_count": null,
   "metadata": {},
   "outputs": [],
   "source": []
  },
  {
   "cell_type": "code",
   "execution_count": null,
   "metadata": {},
   "outputs": [],
   "source": []
  },
  {
   "cell_type": "markdown",
   "metadata": {},
   "source": []
  },
  {
   "cell_type": "code",
   "execution_count": null,
   "metadata": {},
   "outputs": [],
   "source": []
  }
 ],
 "metadata": {
  "kernelspec": {
   "display_name": "Python 3",
   "language": "python",
   "name": "python3"
  },
  "language_info": {
   "codemirror_mode": {
    "name": "ipython",
    "version": 3
   },
   "file_extension": ".py",
   "mimetype": "text/x-python",
   "name": "python",
   "nbconvert_exporter": "python",
   "pygments_lexer": "ipython3",
   "version": "3.12.3"
  }
 },
 "nbformat": 4,
 "nbformat_minor": 2
}
