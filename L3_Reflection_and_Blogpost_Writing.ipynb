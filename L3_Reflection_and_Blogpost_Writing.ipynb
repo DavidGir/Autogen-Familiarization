{
 "cells": [
  {
   "cell_type": "code",
   "execution_count": 1,
   "metadata": {},
   "outputs": [],
   "source": [
    "llm_config = {\"model\": \"gpt-3.5-turbo\"}"
   ]
  },
  {
   "cell_type": "code",
   "execution_count": 2,
   "metadata": {},
   "outputs": [],
   "source": [
    "task = '''\n",
    "    Write a concise but engaging blogpost \n",
    "    about the benefits of using a password manager.\n",
    "    Make sure the blogpost is within 100 words. \n",
    "'''"
   ]
  },
  {
   "cell_type": "markdown",
   "metadata": {},
   "source": [
    "# Create the writer agent "
   ]
  },
  {
   "cell_type": "code",
   "execution_count": 3,
   "metadata": {},
   "outputs": [],
   "source": [
    "import autogen \n",
    "\n",
    "writer = autogen.AssistantAgent(\n",
    "    name=\"Writer\",\n",
    "    system_message=\"You are a writer. You write engaging and concise\"\n",
    "    \"blogpost (with title) on given topics. You must polish your writing\"\n",
    "    \"based on the feedback you receive and give a refined version.\"\n",
    "    \"ONLY return your final work without additional comments.\",\n",
    "    llm_config=llm_config,\n",
    ")"
   ]
  },
  {
   "cell_type": "code",
   "execution_count": 4,
   "metadata": {},
   "outputs": [],
   "source": [
    "reply = writer.generate_reply(\n",
    "    messages=[{\"content\": task, \"role\": \"user\"}]\n",
    ")"
   ]
  },
  {
   "cell_type": "code",
   "execution_count": 5,
   "metadata": {},
   "outputs": [
    {
     "name": "stdout",
     "output_type": "stream",
     "text": [
      "Title: \"Unlocking the Power of Password Managers\"\n",
      "\n",
      "In the digital age, safeguarding our online accounts is paramount. Enter password managers – the trusted sidekick in cybersecurity. These tools offer a range of benefits, from generating complex passwords to securely storing sensitive information. By using a password manager, you not only enhance security but also save time by auto-filling login details. Moreover, with the convenience of syncing across devices, you can access your passwords anytime, anywhere. Embrace the ease, enhance your security, and bid farewell to the hassle of remembering multiple passwords with a reliable password manager by your side.\n"
     ]
    }
   ],
   "source": [
    "print(reply)"
   ]
  },
  {
   "cell_type": "markdown",
   "metadata": {},
   "source": [
    "# Adding reflection"
   ]
  },
  {
   "cell_type": "code",
   "execution_count": 6,
   "metadata": {},
   "outputs": [],
   "source": [
    "critic = autogen.AssistantAgent(\n",
    "    name=\"Critic\",\n",
    "    is_termination_msg=lambda x: x.get(\"content\", \"\").find (\"TERMINATE\") >= 0,\n",
    "    system_message=\"You are a critic. You provide feedback on the writing\"\n",
    "    \"style, grammar, and structure of the blogpost. You must provide\"\n",
    "    \"constructive feedback to the writer in the aims of improving the quality of the content.\",\n",
    "    llm_config=llm_config,\n",
    ")"
   ]
  },
  {
   "cell_type": "code",
   "execution_count": 7,
   "metadata": {},
   "outputs": [
    {
     "name": "stdout",
     "output_type": "stream",
     "text": [
      "\u001b[33mCritic\u001b[0m (to Writer):\n",
      "\n",
      "\n",
      "    Write a concise but engaging blogpost \n",
      "    about the benefits of using a password manager.\n",
      "    Make sure the blogpost is within 100 words. \n",
      "\n",
      "\n",
      "--------------------------------------------------------------------------------\n",
      "\u001b[33mWriter\u001b[0m (to Critic):\n",
      "\n",
      "Title: \"Unlocking the Power of Password Managers\"\n",
      "\n",
      "In the digital age, safeguarding our online accounts is paramount. Enter password managers – the trusted sidekick in cybersecurity. These tools offer a range of benefits, from generating complex passwords to securely storing sensitive information. By using a password manager, you not only enhance security but also save time by auto-filling login details. Moreover, with the convenience of syncing across devices, you can access your passwords anytime, anywhere. Embrace the ease, enhance your security, and bid farewell to the hassle of remembering multiple passwords with a reliable password manager by your side.\n",
      "\n",
      "--------------------------------------------------------------------------------\n",
      "\u001b[33mCritic\u001b[0m (to Writer):\n",
      "\n",
      "This blog post on the benefits of using a password manager is concise and informative. The title \"Unlocking the Power of Password Managers\" is engaging and sets the tone for the post. The content effectively highlights the advantages of using a password manager, such as enhancing security, saving time, and convenience of syncing across devices. \n",
      "\n",
      "To further improve the blog post, it could benefit from a more structured approach, such as breaking down the benefits into bullet points or subheadings for easier readability. Additionally, providing statistics or case studies to support the benefits mentioned would add credibility to the post. Overall, it's a well-written piece that effectively communicates the advantages of password managers.\n",
      "\n",
      "--------------------------------------------------------------------------------\n",
      "\u001b[33mWriter\u001b[0m (to Critic):\n",
      "\n",
      "Title: \"Maximizing Security: The Power of Password Managers\"\n",
      "\n",
      "In today's digital landscape, safeguarding our online presence is non-negotiable. Password managers stand out as a reliable ally in the realm of cybersecurity. These tools offer a plethora of advantages, including generating robust passwords, securely storing sensitive data, and simplifying login processes. By embracing a password manager, you not only bolster your security but also streamline your online activities. With the added flexibility of cross-device synchronization, accessing your credentials becomes effortless. Enhance your digital security, save valuable time, and bid farewell to password-related woes by embracing the efficiency of password managers.\n",
      "\n",
      "--------------------------------------------------------------------------------\n"
     ]
    }
   ],
   "source": [
    "res = critic.initiate_chat(\n",
    "    recipient=writer,\n",
    "    message=task,\n",
    "    max_turns=2,\n",
    "    summary_method=\"last_msg\"\n",
    ")"
   ]
  },
  {
   "cell_type": "markdown",
   "metadata": {},
   "source": [
    "# Nested Chat "
   ]
  },
  {
   "cell_type": "code",
   "execution_count": 8,
   "metadata": {},
   "outputs": [],
   "source": [
    "# Within the critic agent we can put in a bunch of other reviewers:\n",
    "\n",
    "SEO_reviewer = autogen.AssistantAgent(\n",
    "    name=\"SEO Reviewer\",\n",
    "    llm_config=llm_config,\n",
    "    system_message=\"You are an SEO reviewer, known for \"\n",
    "        \"your ability to optimize content for search engines, \"\n",
    "        \"ensuring that it ranks well and attracts organic traffic. \" \n",
    "        \"Make sure your suggestion is concise (within 3 bullet points), \"\n",
    "        \"concrete and to the point. \"\n",
    "        \"Begin the review by stating your role.\",\n",
    ")"
   ]
  },
  {
   "cell_type": "code",
   "execution_count": 9,
   "metadata": {},
   "outputs": [],
   "source": [
    "legal_reviewer = autogen.AssistantAgent(\n",
    "    name=\"Legal Reviewer\",\n",
    "    llm_config=llm_config,\n",
    "    system_message=\"You are a legal reviewer, known for \"\n",
    "        \"your ability to ensure that content is legally compliant \"\n",
    "        \"and free from any potential legal issues. \"\n",
    "        \"Make sure your suggestion is concise (within 3 bullet points), \"\n",
    "        \"concrete and to the point. \"\n",
    "        \"Begin the review by stating your role.\",\n",
    ")"
   ]
  },
  {
   "cell_type": "code",
   "execution_count": 10,
   "metadata": {},
   "outputs": [],
   "source": [
    "ethics_reviewer = autogen.AssistantAgent(\n",
    "    name=\"Ethics Reviewer\",\n",
    "    llm_config=llm_config,\n",
    "    system_message=\"You are an ethics reviewer, known for \"\n",
    "        \"your ability to ensure that content is ethically sound \"\n",
    "        \"and free from any potential ethical issues. \" \n",
    "        \"Make sure your suggestion is concise (within 3 bullet points), \"\n",
    "        \"concrete and to the point. \"\n",
    "        \"Begin the review by stating your role. \",\n",
    ")"
   ]
  },
  {
   "cell_type": "code",
   "execution_count": 11,
   "metadata": {},
   "outputs": [],
   "source": [
    "meta_reviewer = autogen.AssistantAgent(\n",
    "    name=\"Meta Reviewer\",\n",
    "    llm_config=llm_config,\n",
    "    system_message=\"You are a meta reviewer, you aggregate and review \"\n",
    "    \"the work of other reviewers and give a final suggestion on the content.\",\n",
    ")"
   ]
  },
  {
   "cell_type": "code",
   "execution_count": 12,
   "metadata": {},
   "outputs": [],
   "source": [
    "def reflection_message(recipient, messages, sender, config):\n",
    "    return f'''Review the following content. \n",
    "            \\n\\n {recipient.chat_messages_for_summary(sender)[-1]['content']}'''\n",
    "\n",
    "review_chats = [\n",
    "    {\n",
    "     \"recipient\": SEO_reviewer, \n",
    "     \"message\": reflection_message, \n",
    "     \"summary_method\": \"reflection_with_llm\",\n",
    "     \"summary_args\": {\"summary_prompt\" : \n",
    "        \"Return review into as JSON object only:\"\n",
    "        \"{'Reviewer': '', 'Review': ''}. Here Reviewer should be your role\",},\n",
    "     \"max_turns\": 1},\n",
    "    {\n",
    "    \"recipient\": legal_reviewer, \n",
    "    \"message\": reflection_message, \n",
    "     \"summary_method\": \"reflection_with_llm\",\n",
    "     \"summary_args\": {\"summary_prompt\" : \n",
    "        \"Return review into as JSON object only:\"\n",
    "        \"{'Reviewer': '', 'Review': ''}.\",},\n",
    "     \"max_turns\": 1},\n",
    "    {\"recipient\": ethics_reviewer, \n",
    "     \"message\": reflection_message, \n",
    "     \"summary_method\": \"reflection_with_llm\",\n",
    "     \"summary_args\": {\"summary_prompt\" : \n",
    "        \"Return review into as JSON object only:\"\n",
    "        \"{'Reviewer': '', 'Review': ''}\",},\n",
    "     \"max_turns\": 1},\n",
    "     {\"recipient\": meta_reviewer, \n",
    "      \"message\": \"Aggregate feedback from all reviewers and give final suggestions on the writing.\", \n",
    "     \"max_turns\": 1},\n",
    "]\n"
   ]
  },
  {
   "cell_type": "code",
   "execution_count": 13,
   "metadata": {},
   "outputs": [],
   "source": [
    "# As soon as the critic receives the response from the writer, it will trigger the nested chats\n",
    "\n",
    "critic.register_nested_chats(\n",
    "    review_chats,\n",
    "    trigger=writer,\n",
    ")"
   ]
  },
  {
   "cell_type": "code",
   "execution_count": 14,
   "metadata": {},
   "outputs": [
    {
     "name": "stdout",
     "output_type": "stream",
     "text": [
      "\u001b[33mCritic\u001b[0m (to Writer):\n",
      "\n",
      "\n",
      "    Write a concise but engaging blogpost \n",
      "    about the benefits of using a password manager.\n",
      "    Make sure the blogpost is within 100 words. \n",
      "\n",
      "\n",
      "--------------------------------------------------------------------------------\n",
      "\u001b[33mWriter\u001b[0m (to Critic):\n",
      "\n",
      "Title: \"Unlocking the Power of Password Managers\"\n",
      "\n",
      "In the digital age, safeguarding our online accounts is paramount. Enter password managers – the trusted sidekick in cybersecurity. These tools offer a range of benefits, from generating complex passwords to securely storing sensitive information. By using a password manager, you not only enhance security but also save time by auto-filling login details. Moreover, with the convenience of syncing across devices, you can access your passwords anytime, anywhere. Embrace the ease, enhance your security, and bid farewell to the hassle of remembering multiple passwords with a reliable password manager by your side.\n",
      "\n",
      "--------------------------------------------------------------------------------\n",
      "\u001b[34m\n",
      "********************************************************************************\u001b[0m\n",
      "\u001b[34mStarting a new chat....\u001b[0m\n",
      "\u001b[34m\n",
      "********************************************************************************\u001b[0m\n",
      "\u001b[33mCritic\u001b[0m (to SEO Reviewer):\n",
      "\n",
      "Review the following content. \n",
      "            \n",
      "\n",
      " Title: \"Unlocking the Power of Password Managers\"\n",
      "\n",
      "In the digital age, safeguarding our online accounts is paramount. Enter password managers – the trusted sidekick in cybersecurity. These tools offer a range of benefits, from generating complex passwords to securely storing sensitive information. By using a password manager, you not only enhance security but also save time by auto-filling login details. Moreover, with the convenience of syncing across devices, you can access your passwords anytime, anywhere. Embrace the ease, enhance your security, and bid farewell to the hassle of remembering multiple passwords with a reliable password manager by your side.\n",
      "\n",
      "--------------------------------------------------------------------------------\n",
      "\u001b[33mSEO Reviewer\u001b[0m (to Critic):\n",
      "\n",
      "As an SEO reviewer:\n",
      "\n",
      "- Consider adding keywords related to password managers like \"best password manager\" or \"secure password storage\" to improve search visibility.\n",
      "- Include a meta description summarizing the benefits of password managers to entice users to click through from search results.\n",
      "- Create backlinks to reputable cybersecurity sources to enhance the authority of the content on password managers.\n",
      "\n",
      "--------------------------------------------------------------------------------\n",
      "\u001b[34m\n",
      "********************************************************************************\u001b[0m\n",
      "\u001b[34mStarting a new chat....\u001b[0m\n",
      "\u001b[34m\n",
      "********************************************************************************\u001b[0m\n",
      "\u001b[33mCritic\u001b[0m (to Legal Reviewer):\n",
      "\n",
      "Review the following content. \n",
      "            \n",
      "\n",
      " Title: \"Unlocking the Power of Password Managers\"\n",
      "\n",
      "In the digital age, safeguarding our online accounts is paramount. Enter password managers – the trusted sidekick in cybersecurity. These tools offer a range of benefits, from generating complex passwords to securely storing sensitive information. By using a password manager, you not only enhance security but also save time by auto-filling login details. Moreover, with the convenience of syncing across devices, you can access your passwords anytime, anywhere. Embrace the ease, enhance your security, and bid farewell to the hassle of remembering multiple passwords with a reliable password manager by your side.\n",
      "Context: \n",
      "{'Reviewer': 'SEO reviewer', 'Review': '- Consider adding keywords related to password managers like \"best password manager\" or \"secure password storage\" to improve search visibility.\\n- Include a meta description summarizing the benefits of password managers to entice users to click through from search results.\\n- Create backlinks to reputable cybersecurity sources to enhance the authority of the content on password managers.'}\n",
      "\n",
      "--------------------------------------------------------------------------------\n",
      "\u001b[33mLegal Reviewer\u001b[0m (to Critic):\n",
      "\n",
      "As a Legal Reviewer: \n",
      "\n",
      "- Ensure that the content does not promote or endorse specific password manager brands to avoid potential issues of bias.\n",
      "- Verify that any security claims made regarding password managers are factually accurate and supported by reliable sources.\n",
      "- Confirm that the benefits mentioned, such as enhancing security and saving time, are not overstated to prevent misleading consumers.\n",
      "\n",
      "--------------------------------------------------------------------------------\n",
      "\u001b[34m\n",
      "********************************************************************************\u001b[0m\n",
      "\u001b[34mStarting a new chat....\u001b[0m\n",
      "\u001b[34m\n",
      "********************************************************************************\u001b[0m\n",
      "\u001b[33mCritic\u001b[0m (to Ethics Reviewer):\n",
      "\n",
      "Review the following content. \n",
      "            \n",
      "\n",
      " Title: \"Unlocking the Power of Password Managers\"\n",
      "\n",
      "In the digital age, safeguarding our online accounts is paramount. Enter password managers – the trusted sidekick in cybersecurity. These tools offer a range of benefits, from generating complex passwords to securely storing sensitive information. By using a password manager, you not only enhance security but also save time by auto-filling login details. Moreover, with the convenience of syncing across devices, you can access your passwords anytime, anywhere. Embrace the ease, enhance your security, and bid farewell to the hassle of remembering multiple passwords with a reliable password manager by your side.\n",
      "Context: \n",
      "{'Reviewer': 'SEO reviewer', 'Review': '- Consider adding keywords related to password managers like \"best password manager\" or \"secure password storage\" to improve search visibility.\\n- Include a meta description summarizing the benefits of password managers to entice users to click through from search results.\\n- Create backlinks to reputable cybersecurity sources to enhance the authority of the content on password managers.'}\n",
      "{'Reviewer': 'Legal Reviewer', 'Review': '- Ensure that the content does not promote or endorse specific password manager brands to avoid potential issues of bias.\\n- Verify that any security claims made regarding password managers are factually accurate and supported by reliable sources.\\n- Confirm that the benefits mentioned, such as enhancing security and saving time, are not overstated to prevent misleading consumers.'}\n",
      "\n",
      "--------------------------------------------------------------------------------\n",
      "\u001b[33mEthics Reviewer\u001b[0m (to Critic):\n",
      "\n",
      "As an ethics reviewer:\n",
      "\n",
      "- Avoid endorsing specific password manager brands to maintain impartiality and prevent potential bias issues.\n",
      "- Ensure that all claims related to the security benefits of password managers are accurate and supported by reliable sources to provide trustworthy information.\n",
      "- Double-check that the advantages highlighted, like enhancing security and saving time, are presented realistically to prevent misleading users.\n",
      "\n",
      "--------------------------------------------------------------------------------\n",
      "\u001b[34m\n",
      "********************************************************************************\u001b[0m\n",
      "\u001b[34mStarting a new chat....\u001b[0m\n",
      "\u001b[34m\n",
      "********************************************************************************\u001b[0m\n",
      "\u001b[33mCritic\u001b[0m (to Meta Reviewer):\n",
      "\n",
      "Aggregate feedback from all reviewers and give final suggestions on the writing.\n",
      "Context: \n",
      "{'Reviewer': 'SEO reviewer', 'Review': '- Consider adding keywords related to password managers like \"best password manager\" or \"secure password storage\" to improve search visibility.\\n- Include a meta description summarizing the benefits of password managers to entice users to click through from search results.\\n- Create backlinks to reputable cybersecurity sources to enhance the authority of the content on password managers.'}\n",
      "{'Reviewer': 'Legal Reviewer', 'Review': '- Ensure that the content does not promote or endorse specific password manager brands to avoid potential issues of bias.\\n- Verify that any security claims made regarding password managers are factually accurate and supported by reliable sources.\\n- Confirm that the benefits mentioned, such as enhancing security and saving time, are not overstated to prevent misleading consumers.'}\n",
      "{'Reviewer': 'Ethics reviewer', 'Review': '- Avoid endorsing specific password manager brands to maintain impartiality and prevent potential bias issues.\\n- Ensure that all claims related to the security benefits of password managers are accurate and supported by reliable sources to provide trustworthy information.\\n- Double-check that the advantages highlighted, like enhancing security and saving time, are presented realistically to prevent misleading users.'}\n",
      "\n",
      "--------------------------------------------------------------------------------\n",
      "\u001b[33mMeta Reviewer\u001b[0m (to Critic):\n",
      "\n",
      "After aggregating feedback from all reviewers, here are the final suggestions on the writing:\n",
      "\n",
      "1. **SEO Review**: Incorporate keywords related to password managers to enhance search visibility. Additionally, craft a compelling meta description summarizing the benefits of password managers to attract users from search results. Establish backlinks to reputable cybersecurity sources for content authority.\n",
      "\n",
      "2. **Legal Review**: Avoid promoting specific password manager brands to prevent bias concerns. Ensure that all security claims are verifiable and supported by trustworthy sources. Confirm that benefits such as improved security and time-saving are accurately portrayed without exaggeration.\n",
      "\n",
      "3. **Ethics Review**: Maintain impartiality by not endorsing specific brands of password managers. Verify that all statements regarding security benefits are based on reliable sources for credibility. Present advantages realistically without misleading users.\n",
      "\n",
      "Final Suggestions:\n",
      "- Integrate relevant keywords for SEO optimization.\n",
      "- Craft a persuasive meta description highlighting password manager benefits.\n",
      "- Build backlinks to authoritative cybersecurity sources.\n",
      "- Refrain from favoring specific brands to uphold objectivity.\n",
      "- Fact-check and support all security claims with reliable sources.\n",
      "- Ensure benefits are realistically depicted to avoid misleading consumers. \n",
      "\n",
      "By incorporating these suggestions, the content on password managers can be comprehensive, credible, and appealing to a wide audience while addressing SEO, legal, and ethical considerations.\n",
      "\n",
      "--------------------------------------------------------------------------------\n",
      "\u001b[33mCritic\u001b[0m (to Writer):\n",
      "\n",
      "After aggregating feedback from all reviewers, here are the final suggestions on the writing:\n",
      "\n",
      "1. **SEO Review**: Incorporate keywords related to password managers to enhance search visibility. Additionally, craft a compelling meta description summarizing the benefits of password managers to attract users from search results. Establish backlinks to reputable cybersecurity sources for content authority.\n",
      "\n",
      "2. **Legal Review**: Avoid promoting specific password manager brands to prevent bias concerns. Ensure that all security claims are verifiable and supported by trustworthy sources. Confirm that benefits such as improved security and time-saving are accurately portrayed without exaggeration.\n",
      "\n",
      "3. **Ethics Review**: Maintain impartiality by not endorsing specific brands of password managers. Verify that all statements regarding security benefits are based on reliable sources for credibility. Present advantages realistically without misleading users.\n",
      "\n",
      "Final Suggestions:\n",
      "- Integrate relevant keywords for SEO optimization.\n",
      "- Craft a persuasive meta description highlighting password manager benefits.\n",
      "- Build backlinks to authoritative cybersecurity sources.\n",
      "- Refrain from favoring specific brands to uphold objectivity.\n",
      "- Fact-check and support all security claims with reliable sources.\n",
      "- Ensure benefits are realistically depicted to avoid misleading consumers. \n",
      "\n",
      "By incorporating these suggestions, the content on password managers can be comprehensive, credible, and appealing to a wide audience while addressing SEO, legal, and ethical considerations.\n",
      "\n",
      "--------------------------------------------------------------------------------\n",
      "\u001b[33mWriter\u001b[0m (to Critic):\n",
      "\n",
      "Title: \"The Ultimate Guide to Harnessing Password Managers\"\n",
      "\n",
      "In today's digital era, fortifying your online presence is non-negotiable. Discover the game-changing advantages of employing a password manager. From generating robust passwords to securely storing sensitive data, these tools are indispensable in cybersecurity. Enhance your digital defense and save time with auto-fill capabilities. Seamlessly sync passwords across devices for on-the-go access. Say goodbye to password predicaments with a trusted password manager by your side. Unlock security, efficiency, and peace of mind with this powerhouse ally in the realm of cyberspace.\n",
      "\n",
      "--------------------------------------------------------------------------------\n"
     ]
    }
   ],
   "source": [
    "res = critic.initiate_chat(\n",
    "    recipient=writer,\n",
    "    message=task,\n",
    "    max_turns=2,\n",
    "    summary_method=\"last_msg\"\n",
    ")"
   ]
  },
  {
   "cell_type": "code",
   "execution_count": 15,
   "metadata": {},
   "outputs": [
    {
     "name": "stdout",
     "output_type": "stream",
     "text": [
      "Title: \"The Ultimate Guide to Harnessing Password Managers\"\n",
      "\n",
      "In today's digital era, fortifying your online presence is non-negotiable. Discover the game-changing advantages of employing a password manager. From generating robust passwords to securely storing sensitive data, these tools are indispensable in cybersecurity. Enhance your digital defense and save time with auto-fill capabilities. Seamlessly sync passwords across devices for on-the-go access. Say goodbye to password predicaments with a trusted password manager by your side. Unlock security, efficiency, and peace of mind with this powerhouse ally in the realm of cyberspace.\n"
     ]
    }
   ],
   "source": [
    "print(res.summary)"
   ]
  },
  {
   "cell_type": "code",
   "execution_count": null,
   "metadata": {},
   "outputs": [],
   "source": []
  },
  {
   "cell_type": "code",
   "execution_count": null,
   "metadata": {},
   "outputs": [],
   "source": []
  }
 ],
 "metadata": {
  "kernelspec": {
   "display_name": ".venv",
   "language": "python",
   "name": "python3"
  },
  "language_info": {
   "codemirror_mode": {
    "name": "ipython",
    "version": 3
   },
   "file_extension": ".py",
   "mimetype": "text/x-python",
   "name": "python",
   "nbconvert_exporter": "python",
   "pygments_lexer": "ipython3",
   "version": "3.12.3"
  }
 },
 "nbformat": 4,
 "nbformat_minor": 2
}
